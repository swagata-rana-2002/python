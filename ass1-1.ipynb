{
 "cells": [
  {
   "cell_type": "code",
   "execution_count": null,
   "metadata": {},
   "outputs": [],
   "source": [
    "from scipy.optimize import minimize\n",
    "\n",
    "# Define the multivariable function\n",
    "def objective(vars):\n",
    "    x, y = vars\n",
    "    return x**2 + y**2 + 3*x + 4*y + 5\n",
    "\n",
    "# Initial guess\n",
    "initial_guess = [0, 0]\n",
    "# Minimize the function\n",
    "result = minimize(objective, initial_guess)\n",
    "print(\"Minimum found at (x, y):\", result.x)\n",
    "print(\"Minimum value of the function:\", result.fun)\n"
   ]
  }
 ],
 "metadata": {
  "language_info": {
   "name": "python"
  }
 },
 "nbformat": 4,
 "nbformat_minor": 2
}
