{
 "cells": [
  {
   "cell_type": "code",
   "execution_count": null,
   "metadata": {},
   "outputs": [],
   "source": [
    "import numpy as np\n",
    "import matplotlib.pyplot as plt\n",
    "from mpl_toolkits.mplot3d import Axes3D\n",
    "\n",
    "# Define the function f(x, y)\n",
    "def f(x, y):\n",
    "    return x**2 + y**2 + 3*x + 4*y + 5\n",
    "\n",
    "# Generate x and y values\n",
    "x = np.linspace(-3, 1, 400)\n",
    "y = np.linspace(-3, 1, 400)\n",
    "x, y = np.meshgrid(x, y)\n",
    "z = f(x, y)\n",
    "\n",
    "# Minimum point coordinates\n",
    "min_x = -1.5\n",
    "min_y = -2.0\n",
    "min_z = f(min_x, min_y)\n",
    "\n",
    "# Create a 3D plot\n",
    "fig = plt.figure(figsize=(10, 7))\n",
    "ax = fig.add_subplot(111, projection='3d')\n",
    "\n",
    "# Plot the surface\n",
    "ax.plot_surface(x, y, z, cmap='viridis', alpha=0.8)\n",
    "\n",
    "# Highlight the minimum point\n",
    "ax.scatter(min_x, min_y, min_z, color='red', s=100, label=f\"Min at ({min_x}, {min_y}, {min_z})\")\n",
    "\n",
    "# Set labels\n",
    "ax.set_xlabel('X axis')\n",
    "ax.set_ylabel('Y axis')\n",
    "ax.set_zlabel('f(x, y)')\n",
    "\n",
    "# Add a legend\n",
    "ax.legend()\n",
    "\n",
    "# Show the plot\n",
    "plt.show()\n"
   ]
  }
 ],
 "metadata": {
  "language_info": {
   "name": "python"
  }
 },
 "nbformat": 4,
 "nbformat_minor": 2
}
